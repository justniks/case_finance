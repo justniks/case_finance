{
 "cells": [
  {
   "cell_type": "markdown",
   "metadata": {},
   "source": [
    "**Тестируем код Антона**"
   ]
  },
  {
   "cell_type": "code",
   "execution_count": 27,
   "id": "2fc979fa",
   "metadata": {},
   "outputs": [],
   "source": [
    "import yfinance as yf\n",
    "import pandas as pd"
   ]
  },
  {
   "cell_type": "code",
   "execution_count": 61,
   "id": "46e37d24",
   "metadata": {},
   "outputs": [],
   "source": [
    "taken_tickers = [\"IMOEX.ME\", \"META\", \"TSLA\", \"AAPL\"]\n",
    "\n",
    "df_final = pd.DataFrame()\n",
    "\n",
    "for one_ticker in taken_tickers:\n",
    "    asset = yf.Ticker(one_ticker)\n",
    "    dfhelp = asset.history(period = \"1y\").reset_index()[[\"Date\", \"Close\"]]\n",
    "    dfhelp = dfhelp.rename(columns = {\"Close\":one_ticker})\n",
    "    dfhelp[\"Date\"] = dfhelp.Date.dt.date\n",
    "    if len(df_final) == 0:\n",
    "        df_final = dfhelp\n",
    "    else:\n",
    "        df_final = df_final.merge(dfhelp, on = [\"Date\"])"
   ]
  },
  {
   "cell_type": "code",
   "execution_count": 62,
   "id": "062308d6",
   "metadata": {},
   "outputs": [
    {
     "data": {
      "text/html": [
       "<div>\n",
       "<style scoped>\n",
       "    .dataframe tbody tr th:only-of-type {\n",
       "        vertical-align: middle;\n",
       "    }\n",
       "\n",
       "    .dataframe tbody tr th {\n",
       "        vertical-align: top;\n",
       "    }\n",
       "\n",
       "    .dataframe thead th {\n",
       "        text-align: right;\n",
       "    }\n",
       "</style>\n",
       "<table border=\"1\" class=\"dataframe\">\n",
       "  <thead>\n",
       "    <tr style=\"text-align: right;\">\n",
       "      <th></th>\n",
       "      <th>Date</th>\n",
       "      <th>IMOEX.ME</th>\n",
       "      <th>META</th>\n",
       "      <th>TSLA</th>\n",
       "      <th>AAPL</th>\n",
       "    </tr>\n",
       "  </thead>\n",
       "  <tbody>\n",
       "    <tr>\n",
       "      <th>0</th>\n",
       "      <td>2022-11-28</td>\n",
       "      <td>2177.449951</td>\n",
       "      <td>108.779999</td>\n",
       "      <td>182.919998</td>\n",
       "      <td>143.418365</td>\n",
       "    </tr>\n",
       "    <tr>\n",
       "      <th>1</th>\n",
       "      <td>2022-11-29</td>\n",
       "      <td>2185.320068</td>\n",
       "      <td>109.459999</td>\n",
       "      <td>180.830002</td>\n",
       "      <td>140.385315</td>\n",
       "    </tr>\n",
       "    <tr>\n",
       "      <th>2</th>\n",
       "      <td>2022-11-30</td>\n",
       "      <td>2174.530029</td>\n",
       "      <td>118.099998</td>\n",
       "      <td>194.699997</td>\n",
       "      <td>147.207169</td>\n",
       "    </tr>\n",
       "    <tr>\n",
       "      <th>3</th>\n",
       "      <td>2022-12-01</td>\n",
       "      <td>2187.290039</td>\n",
       "      <td>120.440002</td>\n",
       "      <td>194.699997</td>\n",
       "      <td>147.485626</td>\n",
       "    </tr>\n",
       "    <tr>\n",
       "      <th>4</th>\n",
       "      <td>2022-12-02</td>\n",
       "      <td>2180.439941</td>\n",
       "      <td>123.489998</td>\n",
       "      <td>194.860001</td>\n",
       "      <td>146.988403</td>\n",
       "    </tr>\n",
       "    <tr>\n",
       "      <th>...</th>\n",
       "      <td>...</td>\n",
       "      <td>...</td>\n",
       "      <td>...</td>\n",
       "      <td>...</td>\n",
       "      <td>...</td>\n",
       "    </tr>\n",
       "    <tr>\n",
       "      <th>240</th>\n",
       "      <td>2023-11-17</td>\n",
       "      <td>3206.340088</td>\n",
       "      <td>335.040009</td>\n",
       "      <td>234.300003</td>\n",
       "      <td>189.690002</td>\n",
       "    </tr>\n",
       "    <tr>\n",
       "      <th>241</th>\n",
       "      <td>2023-11-20</td>\n",
       "      <td>3207.360107</td>\n",
       "      <td>339.970001</td>\n",
       "      <td>235.600006</td>\n",
       "      <td>191.449997</td>\n",
       "    </tr>\n",
       "    <tr>\n",
       "      <th>242</th>\n",
       "      <td>2023-11-21</td>\n",
       "      <td>3218.479980</td>\n",
       "      <td>336.980011</td>\n",
       "      <td>241.199997</td>\n",
       "      <td>190.639999</td>\n",
       "    </tr>\n",
       "    <tr>\n",
       "      <th>243</th>\n",
       "      <td>2023-11-22</td>\n",
       "      <td>3230.649902</td>\n",
       "      <td>341.489990</td>\n",
       "      <td>234.210007</td>\n",
       "      <td>191.309998</td>\n",
       "    </tr>\n",
       "    <tr>\n",
       "      <th>244</th>\n",
       "      <td>2023-11-24</td>\n",
       "      <td>3217.760010</td>\n",
       "      <td>338.230011</td>\n",
       "      <td>235.449997</td>\n",
       "      <td>189.970001</td>\n",
       "    </tr>\n",
       "  </tbody>\n",
       "</table>\n",
       "<p>245 rows × 5 columns</p>\n",
       "</div>"
      ],
      "text/plain": [
       "           Date     IMOEX.ME        META        TSLA        AAPL\n",
       "0    2022-11-28  2177.449951  108.779999  182.919998  143.418365\n",
       "1    2022-11-29  2185.320068  109.459999  180.830002  140.385315\n",
       "2    2022-11-30  2174.530029  118.099998  194.699997  147.207169\n",
       "3    2022-12-01  2187.290039  120.440002  194.699997  147.485626\n",
       "4    2022-12-02  2180.439941  123.489998  194.860001  146.988403\n",
       "..          ...          ...         ...         ...         ...\n",
       "240  2023-11-17  3206.340088  335.040009  234.300003  189.690002\n",
       "241  2023-11-20  3207.360107  339.970001  235.600006  191.449997\n",
       "242  2023-11-21  3218.479980  336.980011  241.199997  190.639999\n",
       "243  2023-11-22  3230.649902  341.489990  234.210007  191.309998\n",
       "244  2023-11-24  3217.760010  338.230011  235.449997  189.970001\n",
       "\n",
       "[245 rows x 5 columns]"
      ]
     },
     "execution_count": 62,
     "metadata": {},
     "output_type": "execute_result"
    }
   ],
   "source": [
    "df_final"
   ]
  },
  {
   "cell_type": "code",
   "execution_count": 66,
   "id": "03e691ef",
   "metadata": {},
   "outputs": [],
   "source": [
    "df_cash = pd.DataFrame([[\"2022-12-01\", 50_000],\n",
    "[\"2023-01-01\", 50_000],\n",
    "[\"2023-02-01\", 50_000],\n",
    "[\"2023-03-01\", 50_000],\n",
    "[\"2023-04-01\", 50_000],\n",
    "[\"2023-05-01\", 50_000],\n",
    "[\"2023-06-01\", 50_000],\n",
    "[\"2023-07-01\", 50_000],\n",
    "[\"2023-08-01\", 50_000],\n",
    "[\"2023-09-01\", 50_000],\n",
    "[\"2023-10-01\", 50_000],\n",
    "[\"2023-11-01\", 50_000],\n",
    "], columns = [\"Date\", \"cashflow\"])"
   ]
  },
  {
   "cell_type": "code",
   "execution_count": 4,
   "id": "df6a8fa7",
   "metadata": {},
   "outputs": [],
   "source": [
    "def static_rebalance(current_assets: list,\n",
    "                     current_prices: list,\n",
    "                     proportions: list,\n",
    "                     cash_flow: float) -> list:\n",
    "    \n",
    "    \"\"\"This function takes lists of current assets (number of each), \n",
    "    their current prices, needed proportions of values (estimated through theory),\n",
    "    and cash flow (deposit or withdraw).\n",
    "    It rerurns the list of rebalanced numbers of each asset\"\"\"\n",
    "    \n",
    "    # len of all lists should be the same\n",
    "    if (len(current_assets) != len(current_prices)) or (len(current_assets) != len(proportions)):\n",
    "        raise ValueError('All lists should have same size')\n",
    "    \n",
    "    # calculating total value of our current shares\n",
    "    total_value = 0\n",
    "    for i in range(len(current_assets)):\n",
    "        total_value += current_assets[i] * current_prices[i]\n",
    "    \n",
    "    # add deposit/withdraw\n",
    "    total_value += cash_flow\n",
    "    if total_value < 0:\n",
    "        raise ValueError('Too big withdraw')\n",
    "    \n",
    "    # calculating new numbers\n",
    "    rebalanced_assets = []\n",
    "    for i in range(len(proportions)):\n",
    "        rebalanced_assets.append(total_value * proportions[i] / current_prices[i])\n",
    "        \n",
    "    return rebalanced_assets\n",
    "\n"
   ]
  },
  {
   "cell_type": "code",
   "execution_count": 10,
   "id": "8728f334",
   "metadata": {},
   "outputs": [],
   "source": [
    "assets = [0, 2, 3]\n",
    "prices = [10, 20, 10]\n",
    "proportions = [0.3, 0.3, 0.4]\n",
    "cash = 100"
   ]
  },
  {
   "cell_type": "code",
   "execution_count": 11,
   "id": "870f7631",
   "metadata": {},
   "outputs": [
    {
     "data": {
      "text/plain": [
       "[5.1, 2.55, 6.8]"
      ]
     },
     "execution_count": 11,
     "metadata": {},
     "output_type": "execute_result"
    }
   ],
   "source": [
    "static_rebalance(assets, prices, proportions, cash)"
   ]
  },
  {
   "cell_type": "code",
   "execution_count": null,
   "id": "bedd6a02",
   "metadata": {},
   "outputs": [],
   "source": [
    "for i in range(len(df_cash)):\n",
    "    date = df_cash[\"Date\"][i]"
   ]
  },
  {
   "cell_type": "code",
   "execution_count": 69,
   "id": "02ad6a05",
   "metadata": {},
   "outputs": [
    {
     "data": {
      "text/plain": [
       "'2022-12-01'"
      ]
     },
     "execution_count": 69,
     "metadata": {},
     "output_type": "execute_result"
    }
   ],
   "source": [
    "df_cash[\"Date\"][0]"
   ]
  },
  {
   "cell_type": "code",
   "execution_count": 111,
   "id": "7560392a",
   "metadata": {},
   "outputs": [
    {
     "data": {
      "text/html": [
       "<div>\n",
       "<style scoped>\n",
       "    .dataframe tbody tr th:only-of-type {\n",
       "        vertical-align: middle;\n",
       "    }\n",
       "\n",
       "    .dataframe tbody tr th {\n",
       "        vertical-align: top;\n",
       "    }\n",
       "\n",
       "    .dataframe thead th {\n",
       "        text-align: right;\n",
       "    }\n",
       "</style>\n",
       "<table border=\"1\" class=\"dataframe\">\n",
       "  <thead>\n",
       "    <tr style=\"text-align: right;\">\n",
       "      <th></th>\n",
       "      <th>Date</th>\n",
       "      <th>cashflow</th>\n",
       "    </tr>\n",
       "  </thead>\n",
       "  <tbody>\n",
       "    <tr>\n",
       "      <th>0</th>\n",
       "      <td>2022-12-01</td>\n",
       "      <td>50000</td>\n",
       "    </tr>\n",
       "    <tr>\n",
       "      <th>1</th>\n",
       "      <td>2023-01-01</td>\n",
       "      <td>50000</td>\n",
       "    </tr>\n",
       "    <tr>\n",
       "      <th>2</th>\n",
       "      <td>2023-02-01</td>\n",
       "      <td>50000</td>\n",
       "    </tr>\n",
       "    <tr>\n",
       "      <th>3</th>\n",
       "      <td>2023-03-01</td>\n",
       "      <td>50000</td>\n",
       "    </tr>\n",
       "    <tr>\n",
       "      <th>4</th>\n",
       "      <td>2023-04-01</td>\n",
       "      <td>50000</td>\n",
       "    </tr>\n",
       "    <tr>\n",
       "      <th>5</th>\n",
       "      <td>2023-05-01</td>\n",
       "      <td>50000</td>\n",
       "    </tr>\n",
       "    <tr>\n",
       "      <th>6</th>\n",
       "      <td>2023-06-01</td>\n",
       "      <td>50000</td>\n",
       "    </tr>\n",
       "    <tr>\n",
       "      <th>7</th>\n",
       "      <td>2023-07-01</td>\n",
       "      <td>50000</td>\n",
       "    </tr>\n",
       "    <tr>\n",
       "      <th>8</th>\n",
       "      <td>2023-08-01</td>\n",
       "      <td>50000</td>\n",
       "    </tr>\n",
       "    <tr>\n",
       "      <th>9</th>\n",
       "      <td>2023-09-01</td>\n",
       "      <td>50000</td>\n",
       "    </tr>\n",
       "    <tr>\n",
       "      <th>10</th>\n",
       "      <td>2023-10-01</td>\n",
       "      <td>50000</td>\n",
       "    </tr>\n",
       "    <tr>\n",
       "      <th>11</th>\n",
       "      <td>2023-11-01</td>\n",
       "      <td>50000</td>\n",
       "    </tr>\n",
       "  </tbody>\n",
       "</table>\n",
       "</div>"
      ],
      "text/plain": [
       "          Date  cashflow\n",
       "0   2022-12-01     50000\n",
       "1   2023-01-01     50000\n",
       "2   2023-02-01     50000\n",
       "3   2023-03-01     50000\n",
       "4   2023-04-01     50000\n",
       "5   2023-05-01     50000\n",
       "6   2023-06-01     50000\n",
       "7   2023-07-01     50000\n",
       "8   2023-08-01     50000\n",
       "9   2023-09-01     50000\n",
       "10  2023-10-01     50000\n",
       "11  2023-11-01     50000"
      ]
     },
     "metadata": {},
     "output_type": "display_data"
    },
    {
     "data": {
      "text/html": [
       "<div>\n",
       "<style scoped>\n",
       "    .dataframe tbody tr th:only-of-type {\n",
       "        vertical-align: middle;\n",
       "    }\n",
       "\n",
       "    .dataframe tbody tr th {\n",
       "        vertical-align: top;\n",
       "    }\n",
       "\n",
       "    .dataframe thead th {\n",
       "        text-align: right;\n",
       "    }\n",
       "</style>\n",
       "<table border=\"1\" class=\"dataframe\">\n",
       "  <thead>\n",
       "    <tr style=\"text-align: right;\">\n",
       "      <th></th>\n",
       "      <th>Date</th>\n",
       "      <th>IMOEX.ME</th>\n",
       "      <th>META</th>\n",
       "      <th>TSLA</th>\n",
       "      <th>AAPL</th>\n",
       "    </tr>\n",
       "  </thead>\n",
       "  <tbody>\n",
       "    <tr>\n",
       "      <th>0</th>\n",
       "      <td>2022-11-28</td>\n",
       "      <td>2177.449951</td>\n",
       "      <td>108.779999</td>\n",
       "      <td>182.919998</td>\n",
       "      <td>143.418365</td>\n",
       "    </tr>\n",
       "    <tr>\n",
       "      <th>1</th>\n",
       "      <td>2022-11-29</td>\n",
       "      <td>2185.320068</td>\n",
       "      <td>109.459999</td>\n",
       "      <td>180.830002</td>\n",
       "      <td>140.385315</td>\n",
       "    </tr>\n",
       "    <tr>\n",
       "      <th>2</th>\n",
       "      <td>2022-11-30</td>\n",
       "      <td>2174.530029</td>\n",
       "      <td>118.099998</td>\n",
       "      <td>194.699997</td>\n",
       "      <td>147.207169</td>\n",
       "    </tr>\n",
       "    <tr>\n",
       "      <th>3</th>\n",
       "      <td>2022-12-01</td>\n",
       "      <td>2187.290039</td>\n",
       "      <td>120.440002</td>\n",
       "      <td>194.699997</td>\n",
       "      <td>147.485626</td>\n",
       "    </tr>\n",
       "    <tr>\n",
       "      <th>4</th>\n",
       "      <td>2022-12-02</td>\n",
       "      <td>2180.439941</td>\n",
       "      <td>123.489998</td>\n",
       "      <td>194.860001</td>\n",
       "      <td>146.988403</td>\n",
       "    </tr>\n",
       "    <tr>\n",
       "      <th>...</th>\n",
       "      <td>...</td>\n",
       "      <td>...</td>\n",
       "      <td>...</td>\n",
       "      <td>...</td>\n",
       "      <td>...</td>\n",
       "    </tr>\n",
       "    <tr>\n",
       "      <th>240</th>\n",
       "      <td>2023-11-17</td>\n",
       "      <td>3206.340088</td>\n",
       "      <td>335.040009</td>\n",
       "      <td>234.300003</td>\n",
       "      <td>189.690002</td>\n",
       "    </tr>\n",
       "    <tr>\n",
       "      <th>241</th>\n",
       "      <td>2023-11-20</td>\n",
       "      <td>3207.360107</td>\n",
       "      <td>339.970001</td>\n",
       "      <td>235.600006</td>\n",
       "      <td>191.449997</td>\n",
       "    </tr>\n",
       "    <tr>\n",
       "      <th>242</th>\n",
       "      <td>2023-11-21</td>\n",
       "      <td>3218.479980</td>\n",
       "      <td>336.980011</td>\n",
       "      <td>241.199997</td>\n",
       "      <td>190.639999</td>\n",
       "    </tr>\n",
       "    <tr>\n",
       "      <th>243</th>\n",
       "      <td>2023-11-22</td>\n",
       "      <td>3230.649902</td>\n",
       "      <td>341.489990</td>\n",
       "      <td>234.210007</td>\n",
       "      <td>191.309998</td>\n",
       "    </tr>\n",
       "    <tr>\n",
       "      <th>244</th>\n",
       "      <td>2023-11-24</td>\n",
       "      <td>3217.760010</td>\n",
       "      <td>338.230011</td>\n",
       "      <td>235.449997</td>\n",
       "      <td>189.970001</td>\n",
       "    </tr>\n",
       "  </tbody>\n",
       "</table>\n",
       "<p>245 rows × 5 columns</p>\n",
       "</div>"
      ],
      "text/plain": [
       "           Date     IMOEX.ME        META        TSLA        AAPL\n",
       "0    2022-11-28  2177.449951  108.779999  182.919998  143.418365\n",
       "1    2022-11-29  2185.320068  109.459999  180.830002  140.385315\n",
       "2    2022-11-30  2174.530029  118.099998  194.699997  147.207169\n",
       "3    2022-12-01  2187.290039  120.440002  194.699997  147.485626\n",
       "4    2022-12-02  2180.439941  123.489998  194.860001  146.988403\n",
       "..          ...          ...         ...         ...         ...\n",
       "240  2023-11-17  3206.340088  335.040009  234.300003  189.690002\n",
       "241  2023-11-20  3207.360107  339.970001  235.600006  191.449997\n",
       "242  2023-11-21  3218.479980  336.980011  241.199997  190.639999\n",
       "243  2023-11-22  3230.649902  341.489990  234.210007  191.309998\n",
       "244  2023-11-24  3217.760010  338.230011  235.449997  189.970001\n",
       "\n",
       "[245 rows x 5 columns]"
      ]
     },
     "metadata": {},
     "output_type": "display_data"
    }
   ],
   "source": [
    "display(df_cash, df_final)"
   ]
  },
  {
   "cell_type": "code",
   "execution_count": 109,
   "id": "0eb3530b",
   "metadata": {},
   "outputs": [
    {
     "name": "stderr",
     "output_type": "stream",
     "text": [
      "/var/folders/md/7rmqqy_j78vf1wdr47tnbjw00000gn/T/ipykernel_91836/335930958.py:16: FutureWarning: Comparison of Timestamp with datetime.date is deprecated in order to match the standard library behavior. In a future version these will be considered non-comparable. Use 'ts == pd.Timestamp(date)' or 'ts.date() == date' instead.\n",
      "  one_price = df_final.loc[df_final[\"Date\"] == pd.to_datetime(date)- pd.DateOffset(day=j)][one_ticker].values\n",
      "/var/folders/md/7rmqqy_j78vf1wdr47tnbjw00000gn/T/ipykernel_91836/335930958.py:18: FutureWarning: Comparison of Timestamp with datetime.date is deprecated in order to match the standard library behavior. In a future version these will be considered non-comparable. Use 'ts == pd.Timestamp(date)' or 'ts.date() == date' instead.\n",
      "  one_price = df_final.loc[df_final[\"Date\"] == pd.to_datetime(date)- pd.DateOffset(day=j)][one_ticker].values\n"
     ]
    }
   ],
   "source": [
    "start_assets = {\"IMOEX.ME\": 0, \"META\": 0, \"TSLA\": 0, \"AAPL\": 0}\n",
    "assets_number = list(start_assets.values())\n",
    "assets_tickers = list(start_assets.keys())\n",
    "needed_proportions = [0.2, 0.4, 0.1, 0.3]\n",
    "\n",
    "for i in range(len(df_cash)):\n",
    "    date = df_cash[\"Date\"][i]\n",
    "    \n",
    "    #get cashflow for this date\n",
    "    cashflow = df_cash.loc[df_cash[\"Date\"] == date][\"cashflow\"].values[0]\n",
    "    \n",
    "    #get current assets prices\n",
    "    c_prices = []\n",
    "    for one_ticker in assets_tickers:\n",
    "        j = 0\n",
    "        one_price = df_final.loc[df_final[\"Date\"] == pd.to_datetime(date)- pd.DateOffset(day=j)][one_ticker].values\n",
    "        while len(one_price) == 0:\n",
    "            one_price = df_final.loc[df_final[\"Date\"] == pd.to_datetime(date)- pd.DateOffset(day=j)][one_ticker].values\n",
    "            j += 1\n",
    "        one_price = one_price[0]\n",
    "        \n",
    "        c_prices.append(one_price)\n",
    "        \n",
    "    assets_number = static_rebalance(assets_number, c_prices, needed_proportions, cashflow)\n",
    "    "
   ]
  },
  {
   "cell_type": "code",
   "execution_count": 110,
   "id": "08500fec",
   "metadata": {},
   "outputs": [
    {
     "data": {
      "text/plain": [
       "[47.248275040779085, 971.6372412465947, 368.3325321132665, 1308.0025642353899]"
      ]
     },
     "execution_count": 110,
     "metadata": {},
     "output_type": "execute_result"
    }
   ],
   "source": [
    "assets_number"
   ]
  },
  {
   "cell_type": "code",
   "execution_count": 115,
   "id": "106e410a",
   "metadata": {},
   "outputs": [],
   "source": [
    "tv = 0\n",
    "for i in range(len(c_prices)):\n",
    "    tv += c_prices[i]*assets_number[i]"
   ]
  },
  {
   "cell_type": "code",
   "execution_count": 116,
   "id": "24075be9",
   "metadata": {},
   "outputs": [
    {
     "data": {
      "text/plain": [
       "757512.6990328842"
      ]
     },
     "execution_count": 116,
     "metadata": {},
     "output_type": "execute_result"
    }
   ],
   "source": [
    "tv"
   ]
  },
  {
   "cell_type": "code",
   "execution_count": 117,
   "id": "a7049eee",
   "metadata": {},
   "outputs": [
    {
     "data": {
      "text/plain": [
       "600000"
      ]
     },
     "execution_count": 117,
     "metadata": {},
     "output_type": "execute_result"
    }
   ],
   "source": [
    "12*50_000"
   ]
  },
  {
   "cell_type": "code",
   "execution_count": null,
   "id": "7a891b79",
   "metadata": {},
   "outputs": [],
   "source": [
    "\\"
   ]
  }
 ],
 "metadata": {
  "kernelspec": {
   "display_name": "Python 3 (ipykernel)",
   "language": "python",
   "name": "python3"
  },
  "language_info": {
   "codemirror_mode": {
    "name": "ipython",
    "version": 3
   },
   "file_extension": ".py",
   "mimetype": "text/x-python",
   "name": "python",
   "nbconvert_exporter": "python",
   "pygments_lexer": "ipython3",
   "version": "3.8.8"
  }
 },
 "nbformat": 4,
 "nbformat_minor": 5
}
