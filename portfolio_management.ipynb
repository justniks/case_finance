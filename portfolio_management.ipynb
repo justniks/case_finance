{
 "cells": [
  {
   "cell_type": "markdown",
   "metadata": {},
   "source": [
    "## Подготовка"
   ]
  },
  {
   "cell_type": "code",
   "execution_count": null,
   "metadata": {},
   "outputs": [],
   "source": [
    "# pip install PyPortfolioOpt\n",
    "# pip install pandas_datareader"
   ]
  },
  {
   "cell_type": "markdown",
   "metadata": {},
   "source": [
    "### Импорты"
   ]
  },
  {
   "cell_type": "code",
   "execution_count": 17,
   "metadata": {},
   "outputs": [],
   "source": [
    "import numpy as np\n",
    "import pandas as pd\n",
    "from pandas_datareader import data\n",
    "\n",
    "from datetime import datetime\n",
    "\n",
    "import matplotlib.pyplot as plt\n",
    "import seaborn as sns\n",
    "\n",
    "from pypfopt import EfficientFrontier\n",
    "from pypfopt import risk_models\n",
    "from pypfopt import expected_returns\n",
    "from pypfopt import plotting\n",
    "\n",
    "import yfinance as yf\n",
    "import pandas_datareader as pdr"
   ]
  },
  {
   "cell_type": "markdown",
   "metadata": {},
   "source": [
    "### Сбор данных"
   ]
  },
  {
   "cell_type": "code",
   "execution_count": 16,
   "metadata": {},
   "outputs": [
    {
     "name": "stdout",
     "output_type": "stream",
     "text": [
      "['POLY' 'FIVE' 'GAZP' 'GMKN' 'LKOH' 'MGNT' 'MTSS' 'NLMK' 'NVTK' 'PLZL'\n",
      " 'ROSN' 'SBER' 'SNGS' 'TATN' 'YNDX']\n",
      "[ 2795.81  6587.8  43593.26 29192.51 56314.28  7334.82  5784.72 11889.03\n",
      " 51179.51 17013.63 70979.28 67433.18 12825.2  15703.95 10500.55]\n",
      "\n",
      "['ROSN' 'SBER' 'LKOH' 'NVTK' 'GAZP' 'GMKN' 'PLZL' 'TATN' 'SNGS' 'NLMK'\n",
      " 'YNDX' 'MGNT' 'FIVE' 'MTSS' 'POLY']\n",
      "[70979.28 67433.18 56314.28 51179.51 43593.26 29192.51 17013.63 15703.95\n",
      " 12825.2  11889.03 10500.55  7334.82  6587.8   5784.72  2795.81]\n"
     ]
    },
    {
     "data": {
      "text/plain": [
       "15"
      ]
     },
     "execution_count": 16,
     "metadata": {},
     "output_type": "execute_result"
    }
   ],
   "source": [
    "# import numpy as np\n",
    "\n",
    "blue_chips_names = np.array(\n",
    "    [\n",
    "        'POLY', 'FIVE', 'GAZP', 'GMKN', 'LKOH', 'MGNT',\t'MTSS', 'NLMK', 'NVTK', 'PLZL', 'ROSN', 'SBER', 'SNGS', 'TATN', 'YNDX'\n",
    "    ]\n",
    ")\n",
    "blue_chips_names.astype(str)\n",
    "\n",
    "blue_chips_mcap = np.array(\n",
    "    [\n",
    "        2_795.81, 6_587.80, 43_593.26, 29_192.51, 56_314.28, 7_334.82, 5_784.72, 11_889.03, 51_179.51, 17_013.63, 70_979.28, 67_433.18, 12_825.20, 15_703.95, 10_500.55\n",
    "    ]\n",
    ")\n",
    "\n",
    "print(\n",
    "    blue_chips_names\n",
    ")\n",
    "print(\n",
    "    blue_chips_mcap\n",
    ")\n",
    "print()\n",
    "\n",
    "sorted_ind = (-blue_chips_mcap).argsort()\n",
    "blue_chips_mcap = blue_chips_mcap[sorted_ind]\n",
    "blue_chips_names = blue_chips_names[sorted_ind]\n",
    "\n",
    "print(\n",
    "    blue_chips_names\n",
    ")\n",
    "print(\n",
    "    blue_chips_mcap\n",
    ")\n",
    "blue_chips_names.shape[0]"
   ]
  },
  {
   "cell_type": "code",
   "execution_count": 22,
   "metadata": {},
   "outputs": [
    {
     "name": "stderr",
     "output_type": "stream",
     "text": [
      "/var/folders/kn/wk_gspxn3dl6_5x56s3qj_c80000gn/T/ipykernel_1100/3920075630.py:21: FutureWarning: The frame.append method is deprecated and will be removed from pandas in a future version. Use pandas.concat instead.\n",
      "  data = pdr.get_data_moex(['FIVE'], start=initial_date, end=today)['CLOSE']\n"
     ]
    },
    {
     "data": {
      "text/plain": [
       "TRADEDATE\n",
       "2020-04-20    2081.0\n",
       "2020-04-21    2130.5\n",
       "2020-04-22    2218.0\n",
       "2020-04-23    2205.0\n",
       "2020-04-24    2147.0\n",
       "               ...  \n",
       "2023-11-23    2180.0\n",
       "2023-11-24    2179.0\n",
       "2023-11-27    2140.5\n",
       "2023-11-28    2151.0\n",
       "2023-11-29    2149.5\n",
       "Name: CLOSE, Length: 902, dtype: float64"
      ]
     },
     "execution_count": 22,
     "metadata": {},
     "output_type": "execute_result"
    }
   ],
   "source": [
    "'''\n",
    "def make_stock_table(assets, start, finish):\n",
    "    df = pd.DataFrame()\n",
    "    for a in assets:\n",
    "        df[a] = data.DataReader(a, data_source='yahoo', start=start, end=finish)[\"Adj Close\"]\n",
    "    return df\n",
    "'''\n",
    "\n",
    "\n",
    "initial_date = \"2020-04-20\"\n",
    "today = datetime.today().strftime('%Y-%m-%d')\n",
    "\n",
    "'''\n",
    "stock_df = make_stock_table(\n",
    "    blue_chips_names, initial_date, today\n",
    ")\n",
    "stock_df\n",
    "'''\n",
    "\n",
    "# download dataframe\n",
    "data = pdr.get_data_moex(['FIVE'], start=initial_date, end=today)['CLOSE']\n",
    "data"
   ]
  },
  {
   "cell_type": "code",
   "execution_count": 23,
   "metadata": {},
   "outputs": [
    {
     "name": "stderr",
     "output_type": "stream",
     "text": [
      "/var/folders/kn/wk_gspxn3dl6_5x56s3qj_c80000gn/T/ipykernel_1100/1336297754.py:1: FutureWarning: The frame.append method is deprecated and will be removed from pandas in a future version. Use pandas.concat instead.\n",
      "  data1 = pdr.get_data_moex(['GMKN'], start=initial_date, end=today)['CLOSE']\n"
     ]
    },
    {
     "data": {
      "text/plain": [
       "TRADEDATE\n",
       "2020-04-20    20036.0\n",
       "2020-04-21    19240.0\n",
       "2020-04-22    19614.0\n",
       "2020-04-23    20216.0\n",
       "2020-04-24    20150.0\n",
       "               ...   \n",
       "2023-11-23    17304.0\n",
       "2023-11-24    17096.0\n",
       "2023-11-27    17052.0\n",
       "2023-11-28    17056.0\n",
       "2023-11-29    16922.0\n",
       "Name: CLOSE, Length: 905, dtype: float64"
      ]
     },
     "execution_count": 23,
     "metadata": {},
     "output_type": "execute_result"
    }
   ],
   "source": [
    "data1 = pdr.get_data_moex(['GMKN'], start=initial_date, end=today)['CLOSE']\n",
    "data1"
   ]
  },
  {
   "cell_type": "code",
   "execution_count": 24,
   "metadata": {},
   "outputs": [
    {
     "name": "stderr",
     "output_type": "stream",
     "text": [
      "/var/folders/kn/wk_gspxn3dl6_5x56s3qj_c80000gn/T/ipykernel_1100/1460369709.py:1: FutureWarning: The frame.append method is deprecated and will be removed from pandas in a future version. Use pandas.concat instead.\n",
      "  data2 = pdr.get_data_moex(['FIVE', 'GMKN'], start=initial_date, end=today)['CLOSE']\n",
      "/var/folders/kn/wk_gspxn3dl6_5x56s3qj_c80000gn/T/ipykernel_1100/1460369709.py:1: FutureWarning: The frame.append method is deprecated and will be removed from pandas in a future version. Use pandas.concat instead.\n",
      "  data2 = pdr.get_data_moex(['FIVE', 'GMKN'], start=initial_date, end=today)['CLOSE']\n"
     ]
    },
    {
     "data": {
      "text/plain": [
       "TRADEDATE\n",
       "2020-04-20     2081.0\n",
       "2020-04-21     2130.5\n",
       "2020-04-22     2218.0\n",
       "2020-04-23     2205.0\n",
       "2020-04-24     2147.0\n",
       "               ...   \n",
       "2023-11-23    17304.0\n",
       "2023-11-24    17096.0\n",
       "2023-11-27    17052.0\n",
       "2023-11-28    17056.0\n",
       "2023-11-29    16922.0\n",
       "Name: CLOSE, Length: 1807, dtype: float64"
      ]
     },
     "execution_count": 24,
     "metadata": {},
     "output_type": "execute_result"
    }
   ],
   "source": [
    "data2 = pdr.get_data_moex(['FIVE', 'GMKN'], start=initial_date, end=today)['CLOSE']\n",
    "data2"
   ]
  },
  {
   "cell_type": "markdown",
   "metadata": {},
   "source": [
    "## Построение портфеля"
   ]
  },
  {
   "cell_type": "markdown",
   "metadata": {},
   "source": [
    "### Предпосылки"
   ]
  },
  {
   "cell_type": "markdown",
   "metadata": {},
   "source": [
    "1. Не имеем доступа к зарубежным рынкам (по крайней мере в краткосрочной перспективе)\n",
    "   \n",
    "   - минимизируем политические риски заморозки активов\n",
    "   - семья не имеет финансового образования и опыта в торговле на финансовых рынках, поэтому торговля на зарубежных рынках сопряжена и с бОльшими финансовыми рисками\n",
    "\n",
    "<br>\n",
    "\n",
    "2. Инвестируем в следующие классы активов: акции, облигации, депозиты, commodities?\n",
    "   \n",
    "   - деривативы являются более рисковым финансовым инструментом по сравнению с \"более классическими\" активами и в основном используются при построении стратегий ??\n",
    "   - в семье нет квалифицированных инвесторов (если мы только рекомендуем активы, то ок; если же мы занимаемся доверительным управлением, то лажа)\n",
    "   - насколько я понимаю, торговля commodities доступна только через фьючерсы, а этот фин. инструмент не доступен не квалифицированным инвесторам (или людям, прошедшим тест на знание соответствующих фин. инструментов)\n",
    "\n",
    "<br>\n",
    "\n",
    "1. Соотношение активов в портфеле: ? / ? / ? (...)\n",
    "   \n",
    "   - ...\n",
    "   - ...\n",
    "\n",
    "<br>\n",
    "\n",
    "4. ..."
   ]
  },
  {
   "cell_type": "markdown",
   "metadata": {},
   "source": [
    "### Подбор оптимальных весов"
   ]
  },
  {
   "cell_type": "markdown",
   "metadata": {},
   "source": [
    "[Источник данных по голубым фишкам на МосБирже](https://investfunds.ru/stocks/?auto=1&limit=50)"
   ]
  }
 ],
 "metadata": {
  "kernelspec": {
   "display_name": "Python 3",
   "language": "python",
   "name": "python3"
  },
  "language_info": {
   "codemirror_mode": {
    "name": "ipython",
    "version": 3
   },
   "file_extension": ".py",
   "mimetype": "text/x-python",
   "name": "python",
   "nbconvert_exporter": "python",
   "pygments_lexer": "ipython3",
   "version": "3.9.6"
  }
 },
 "nbformat": 4,
 "nbformat_minor": 2
}
